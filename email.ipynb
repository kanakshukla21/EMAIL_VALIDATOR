{
 "cells": [
  {
   "cell_type": "code",
   "execution_count": 6,
   "id": "b83e1b91",
   "metadata": {},
   "outputs": [
    {
     "name": "stdout",
     "output_type": "stream",
     "text": [
      "Enter your email : r jjjjj@gmail.com\n",
      "wrong Email 5\n"
     ]
    }
   ],
   "source": [
    "email = input(\"Enter your email : \")# hihello@gmail.com\n",
    "\n",
    "k , j , d = 0,0,0\n",
    "if len(email)>=6:\n",
    "    \n",
    "    if email[0].isalpha():\n",
    "        \n",
    "        if (\"@\" in email) and (email.count(\"@\")==1):\n",
    "            \n",
    "            if (email[-4]==\".\") ^ (email[-3]==\".\"):\n",
    "                \n",
    "                for i in email:\n",
    "                    \n",
    "                    if i==i.isspace():\n",
    "                        k=1\n",
    "                    elif i.isalpha():\n",
    "                        if i==i.upper():\n",
    "                            j=1\n",
    "                    elif i.isdigit():\n",
    "                        continue\n",
    "                    elif i==\"_\" or i==\".\" or i==\"@\":\n",
    "                        continue\n",
    "                    else:\n",
    "                        d=1\n",
    "                        \n",
    "                if k==1 or j==1 or d==1:\n",
    "                    print(\"wrong Email 5\")\n",
    "                    \n",
    "            else:\n",
    "                print(\"Wrong Email 4\")\n",
    "        else:\n",
    "            print(\"Wrong Email 3\")\n",
    "    else:\n",
    "        print(\"Wrong Email 2\")\n",
    "else:\n",
    "    print(\"Wrong Email 1\")\n",
    "                        "
   ]
  },
  {
   "cell_type": "code",
   "execution_count": null,
   "id": "d49a59df",
   "metadata": {},
   "outputs": [],
   "source": []
  }
 ],
 "metadata": {
  "kernelspec": {
   "display_name": "Python 3 (ipykernel)",
   "language": "python",
   "name": "python3"
  },
  "language_info": {
   "codemirror_mode": {
    "name": "ipython",
    "version": 3
   },
   "file_extension": ".py",
   "mimetype": "text/x-python",
   "name": "python",
   "nbconvert_exporter": "python",
   "pygments_lexer": "ipython3",
   "version": "3.11.5"
  }
 },
 "nbformat": 4,
 "nbformat_minor": 5
}
